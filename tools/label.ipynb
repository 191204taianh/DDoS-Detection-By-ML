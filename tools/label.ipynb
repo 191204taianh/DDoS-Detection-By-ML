{
 "cells": [
  {
   "cell_type": "code",
   "execution_count": 1,
   "metadata": {},
   "outputs": [],
   "source": [
    "import pandas as pd\n",
    "import numpy as np\n",
    "import matplotlib.pyplot as plt\n",
    "import seaborn as sns"
   ]
  },
  {
   "cell_type": "code",
   "execution_count": 2,
   "metadata": {},
   "outputs": [],
   "source": [
    "df_train = pd.read_csv(\"/home/ubuntu/DDoS-Detection-By-ML/output/extracted_flow_features.csv\")\n"
   ]
  },
  {
   "cell_type": "code",
   "execution_count": 3,
   "metadata": {},
   "outputs": [
    {
     "data": {
      "text/plain": [
       "array(['192.168.1.124', '192.168.1.148', '192.168.1.216', '192.168.1.225',\n",
       "       '192.168.1.24', '192.168.1.41', '192.168.1.45', '192.168.1.79',\n",
       "       '192.168.56.1', '192.168.56.103', 'PCSSystemtec_0b:6f:8c',\n",
       "       'PCSSystemtec_a2:65:4d', 'fe80::332b:76f4:fd73:29a'], dtype=object)"
      ]
     },
     "execution_count": 3,
     "metadata": {},
     "output_type": "execute_result"
    }
   ],
   "source": [
    "df_train['Src IP'].unique()"
   ]
  },
  {
   "cell_type": "code",
   "execution_count": 4,
   "metadata": {},
   "outputs": [],
   "source": [
    "ips_to_keep = ['192.168.1.124', '192.168.1.148', '192.168.1.216', \n",
    "               '192.168.1.225', '192.168.1.24', '192.168.1.41', \n",
    "               '192.168.1.45', '192.168.1.79']\n",
    "\n",
    "new_df_train = df_train[df_train['Src IP'].isin(ips_to_keep)]\n"
   ]
  },
  {
   "cell_type": "code",
   "execution_count": 5,
   "metadata": {},
   "outputs": [
    {
     "name": "stderr",
     "output_type": "stream",
     "text": [
      "/tmp/ipykernel_19209/3407521292.py:3: SettingWithCopyWarning: \n",
      "A value is trying to be set on a copy of a slice from a DataFrame.\n",
      "Try using .loc[row_indexer,col_indexer] = value instead\n",
      "\n",
      "See the caveats in the documentation: https://pandas.pydata.org/pandas-docs/stable/user_guide/indexing.html#returning-a-view-versus-a-copy\n",
      "  new_df_train['label'] = 'ATTACKER'\n"
     ]
    }
   ],
   "source": [
    "benign_ips = ['192.168.1.124', '192.168.1.148', '192.168.1.79', '192.168.1.225']\n",
    "\n",
    "new_df_train['label'] = 'ATTACKER'\n",
    "\n",
    "new_df_train.loc[df_train['Src IP'].isin(benign_ips), 'label'] = 'BENIGN'\n",
    "new_df_train.to_csv('/home/ubuntu/DDoS-Detection-By-ML/output/updated_extracted_flow_features.csv', index=False)\n"
   ]
  },
  {
   "cell_type": "code",
   "execution_count": 6,
   "metadata": {},
   "outputs": [
    {
     "data": {
      "text/plain": [
       "label\n",
       "ATTACKER    8907\n",
       "BENIGN       278\n",
       "Name: count, dtype: int64"
      ]
     },
     "execution_count": 6,
     "metadata": {},
     "output_type": "execute_result"
    }
   ],
   "source": [
    "new_df_train['label'].unique()\n",
    "new_df_train['label'].value_counts()"
   ]
  }
 ],
 "metadata": {
  "kernelspec": {
   "display_name": "base",
   "language": "python",
   "name": "python3"
  },
  "language_info": {
   "codemirror_mode": {
    "name": "ipython",
    "version": 3
   },
   "file_extension": ".py",
   "mimetype": "text/x-python",
   "name": "python",
   "nbconvert_exporter": "python",
   "pygments_lexer": "ipython3",
   "version": "3.11.3"
  }
 },
 "nbformat": 4,
 "nbformat_minor": 2
}
